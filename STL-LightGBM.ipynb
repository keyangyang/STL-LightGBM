{
 "cells": [
  {
   "cell_type": "code",
   "execution_count": 1,
   "id": "1fe1d807",
   "metadata": {
    "ExecuteTime": {
     "end_time": "2025-04-03T07:20:19.186542Z",
     "start_time": "2025-04-03T07:20:17.370871Z"
    }
   },
   "outputs": [],
   "source": [
    "import pandas as pd \n",
    "import numpy  as np \n",
    "import matplotlib.pyplot as plt\n",
    "from pandas.plotting import register_matplotlib_converters\n",
    "register_matplotlib_converters()\n",
    "\n",
    "from sklearn.model_selection import train_test_split, cross_val_score, KFold\n",
    "from statsmodels.tsa.seasonal import STL\n",
    "from sklearn import metrics\n",
    "import hydroeval as he \n",
    "from lightgbm import LGBMRegressor\n",
    "from sklearn.multioutput import MultiOutputRegressor\n",
    "from hyperopt import hp, tpe, fmin, Trials,space_eval\n",
    "import lightgbm as lgb"
   ]
  },
  {
   "cell_type": "code",
   "execution_count": 2,
   "id": "11a5a8c0",
   "metadata": {
    "ExecuteTime": {
     "end_time": "2025-04-03T07:20:22.813011Z",
     "start_time": "2025-04-03T07:20:22.801921Z"
    }
   },
   "outputs": [],
   "source": [
    "def create_dataset2(data,days_for_train,step):\n",
    "    dataset_x,dataset_y = [],[]\n",
    "    l=len(data)-days_for_train-(step-1)\n",
    "    dataset_y=np.zeros((l,step))\n",
    "    for i in range(l):\n",
    "        _x = data[i:i+days_for_train]\n",
    "        dataset_x.append(_x)\n",
    "        a=data.iloc[i+days_for_train:i+days_for_train+step].values.reshape(-1,)\n",
    "        dataset_y[i]=a\n",
    "    return (np.array(dataset_x).reshape(len(dataset_x),days_for_train),\n",
    "            dataset_y[:,-1])\n",
    "\"\"\"Enter data DataFrame, seq length and predicted step size, training and validation size\"\"\"\n",
    "def train_valid_data(data2,seq,step,valid_size=None):\n",
    "    seq_len = seq\n",
    "    data_len = len(data2)\n",
    "    step=step\n",
    "    days=data_len-seq_len-step+1\n",
    "    data2=np.array(data2)\n",
    "    x = np.zeros((days,seq_len,4))\n",
    "    y = np.zeros((days,seq_len,1))\n",
    "    for i in range(0,days):\n",
    "        x[i] = data2[i:i+seq_len]\n",
    "        y[i] = data2[i+step:i+seq_len+step][:,0].reshape(-1,1)\n",
    "\n",
    "    x=x.reshape(x.shape[0],x.shape[1]*x.shape[2])\n",
    "    y=y.reshape(y.shape[0],y.shape[1])[:,-1]\n",
    "    \n",
    "    return   x,y"
   ]
  },
  {
   "cell_type": "code",
   "execution_count": 3,
   "id": "b2a9f450",
   "metadata": {
    "ExecuteTime": {
     "end_time": "2025-04-03T07:20:26.766892Z",
     "start_time": "2025-04-03T07:20:26.750897Z"
    }
   },
   "outputs": [],
   "source": [
    "def stl(data):\n",
    "    res = STL(data).fit()\n",
    "    \n",
    "    data2=pd.concat([data,res.seasonal,res.trend,res.resid],axis=1)\n",
    "\n",
    "    data2 = np.hstack((np.array(data2).reshape(-1,)))\n",
    "#     return np.array(data2).reshape((data2.shape[0]*data2.shape[1],res.seasonal[-3:],res.trend[-3:],res.resid[-3:]))\n",
    "    return np.array(data2)\n",
    "def stl_data(data,days_for_train,step):\n",
    "    dataset_x,dataset_y = [],[]\n",
    "    l=len(data)-days_for_train-(step-1)\n",
    "    dataset_y=np.zeros((l,step))\n",
    "    for i in range(l):\n",
    "        _x = stl(data[i:i+days_for_train])\n",
    "        dataset_x.append(_x)\n",
    "        a=data.iloc[i+days_for_train:i+days_for_train+step].values.reshape(-1,)\n",
    "        dataset_y[i]=a\n",
    "    return (np.array(dataset_x).reshape(len(dataset_x),days_for_train*4),\n",
    "            dataset_y[:,-1])"
   ]
  },
  {
   "cell_type": "code",
   "execution_count": 7,
   "id": "8d4279b2",
   "metadata": {
    "ExecuteTime": {
     "end_time": "2025-04-03T07:21:30.687793Z",
     "start_time": "2025-04-03T07:21:30.676792Z"
    }
   },
   "outputs": [],
   "source": [
    "\n",
    "# Hyperparameter search space\n",
    "hyperparameter_space = {\n",
    "    'learning_rate': hp.loguniform('learning_rate', np.log(0.01), np.log(0.2)),\n",
    "    'max_depth': hp.choice('max_depth', np.arange(3, 15, dtype=int)),\n",
    "    'num_leaves': hp.choice('num_leaves', np.arange(10, 100, dtype=int)),\n",
    "    'min_data_in_leaf': hp.choice('min_data_in_leaf', np.arange(1, 50, dtype=int)),\n",
    "    'subsample': hp.uniform('subsample', 0.5, 1),\n",
    "    'colsample_bytree': hp.uniform('colsample_bytree', 0.5, 1)\n",
    "}\n",
    "def objective(params, train_features, train_labels):\n",
    "    \n",
    "    model = LGBMRegressor(**params,random_state=42, n_jobs=-1,force_col_wise=True)\n",
    "    kf = KFold(n_splits=5, shuffle=True, random_state=42)\n",
    "    # Calculate 5 fold cross validation MSE\n",
    "    cv_scores = -cross_val_score(model, train_features, train_labels, cv=kf, scoring='neg_mean_squared_error')\n",
    "    mean_score = cv_scores.mean()\n",
    "    \n",
    "    return mean_score"
   ]
  },
  {
   "cell_type": "code",
   "execution_count": null,
   "id": "565511ff",
   "metadata": {
    "ExecuteTime": {
     "end_time": "2025-04-03T07:21:31.062260Z",
     "start_time": "2025-04-03T07:21:31.043389Z"
    }
   },
   "outputs": [],
   "source": [
    "def lgb(train_features, train_labels, test_features, test_labels, max_evals=100):\n",
    "    trials = Trials()\n",
    "    # hyparameter optimization\n",
    "    best_params = fmin(fn=lambda p: objective(p, train_features, train_labels),\n",
    "                       space=hyperparameter_space,\n",
    "                       algo=tpe.suggest,\n",
    "                       max_evals=max_evals,\n",
    "                       trials=trials)\n",
    "\n",
    "\n",
    "    best_hyperparams = space_eval(hyperparameter_space, best_params)\n",
    "    \n",
    "    # training model\n",
    "    model = LGBMRegressor(**best_hyperparams, random_state=42, n_jobs=-1,force_col_wise=True)\n",
    "    model.fit(train_features, train_labels)\n",
    "    \n",
    "    # prediction\n",
    "    pre_train = model.predict(train_features)\n",
    "    pre_test = model.predict(test_features)\n",
    "    \n",
    "    #  RMSE and NSE\n",
    "    rmse = np.sqrt(metrics.mean_squared_error(pre_test, test_labels))\n",
    "    nse_score = he.evaluator(he.nse,pre_test, test_labels)\n",
    "\n",
    "    \n",
    "    return np.round(nse_score,3),np.round(rmse,3),pre_test,test_labels,best_hyperparams"
   ]
  },
  {
   "cell_type": "code",
   "execution_count": 9,
   "id": "aac9d368",
   "metadata": {
    "ExecuteTime": {
     "end_time": "2025-04-03T07:21:31.564668Z",
     "start_time": "2025-04-03T07:21:31.554722Z"
    }
   },
   "outputs": [],
   "source": [
    "def all_model_stl(train,test,lagtime,leadingtime,s=None):\n",
    "\n",
    "    train_features,train_labels=train_valid_data(train,lagtime,leadingtime)\n",
    "\n",
    "    if s==3:\n",
    "        test_features,test_labels=stl_data(test,lagtime,leadingtime)\n",
    "    else:\n",
    "        test_features,test_labels=train_valid_data(test,lagtime,leadingtime)\n",
    "        \n",
    "    lgb_relust=lgb(train_features,train_labels,test_features,test_labels)\n",
    "\n",
    "    l=(lgb_relust)\n",
    "\n",
    "\n",
    "    return l\n",
    "\n",
    "def all_model(train,test,lagtime,leadingtime):\n",
    "\n",
    "    train_features,train_labels=create_dataset2(train,lagtime,leadingtime)\n",
    "    test_features,test_labels=create_dataset2(test,lagtime,leadingtime)\n",
    "\n",
    "    lgb_relust=lgb(train_features,train_labels,test_features,test_labels)\n",
    "\n",
    "    l=(lgb_relust)\n",
    "    return l \n",
    "\n",
    "def stl_model(train,test,lagtime,leadingtime,train_base,test_base,s=None):\n",
    "    l=all_model_stl(train,test,lagtime,leadingtime,s)\n",
    "    l1=all_model(train_base,test_base,lagtime,leadingtime)\n",
    "    return l ,l1 "
   ]
  },
  {
   "cell_type": "code",
   "execution_count": null,
   "id": "d20bdab0",
   "metadata": {
    "ExecuteTime": {
     "end_time": "2025-04-03T07:31:50.937954Z",
     "start_time": "2025-04-03T07:21:32.381084Z"
    }
   },
   "outputs": [],
   "source": [
    "df = pd.read_excel('flow2021.xlsx').iloc[:,[0,1]]#Read the data\n",
    "data=df.set_index('date')#Set the date as an index\n",
    "data = data.resample('D').mean().ffill()\n",
    "test_1=data.iloc[int(0.6*len(data)):,:]#STL-S2 testing data\n",
    "train=data.iloc[:int(0.6*len(data)),:]\n",
    "\n",
    "res = STL(train).fit()\n",
    "train=pd.concat([train,res.seasonal,res.trend,res.resid],axis=1)\n",
    "train\n",
    "test=data.iloc[int(0.6*len(data)):,:]\n",
    "res_test = STL(test).fit()\n",
    "test=pd.concat([test,res_test.seasonal,res_test.trend,res_test.resid],axis=1)\n",
    "test#STL-S1  testing data\n",
    "train_base=df.iloc[:int(0.6*len(data)),1]\n",
    "test_base=df.iloc[int(0.6*len(data)):,1]\n",
    "\n",
    "s2_NSE=[]\n",
    "s2_RMSE=[]\n",
    "\n",
    "s1_NSE=[]\n",
    "s1_RMSE=[]\n",
    "\n",
    "base_NSE=[]\n",
    "base_RMSE=[]\n",
    "\n",
    "s1_pre=[]\n",
    "s2_pre=[]\n",
    "base_pre=[]\n",
    "obs=[]\n",
    "\n",
    "sliding_window=12\n",
    "\n",
    "for i in range(1,8):\n",
    "    ltime=i\n",
    "    result,result_base=stl_model(train,test,sliding_window,ltime,train_base,test_base)\n",
    "    result3=stl_model(train,test_1,sliding_window,ltime,train_base,test_base,3)[0]\n",
    "    s1_NSE.append(result[0])\n",
    "    s1_RMSE.append(result[1])\n",
    "    s2_NSE.append(result3[0])\n",
    "    s2_RMSE.append(result3[1])\n",
    "    \n",
    "    base_NSE.append(result_base[0])\n",
    "    base_RMSE.append(result_base[1])\n",
    "    \n",
    "    s1_pre.append(result[2])\n",
    "    s2_pre.append(result3[2])\n",
    "    obs.append(result[3])\n",
    "    base_pre.append(result_base[2])\n",
    "    \n",
    "pd1=np.vstack([s1_NSE,s1_RMSE,s2_NSE,s2_RMSE,base_NSE,base_RMSE,]).T\n",
    "pd1=pd.DataFrame(pd1,columns=['S1_NSE','S1_RMSE','S2_NSE','S2_RMSE','base_NSE','base_RMSE',])\n",
    "pd1.to_excel('S1+S2+base.xlsx')\n",
    "\n",
    "pd.DataFrame(s1_pre).T.to_excel('S1_pre.xlsx')\n",
    "pd.DataFrame(s2_pre).T.to_excel('S2_pre.xlsx')\n",
    "pd.DataFrame(base_pre).T.to_excel('base_pre.xlsx')\n",
    "pd.DataFrame(obs).T.to_excel('obs2.xlsx')"
   ]
  }
 ],
 "metadata": {
  "kernelspec": {
   "display_name": "Python 3 (ipykernel)",
   "language": "python",
   "name": "python3"
  },
  "language_info": {
   "codemirror_mode": {
    "name": "ipython",
    "version": 3
   },
   "file_extension": ".py",
   "mimetype": "text/x-python",
   "name": "python",
   "nbconvert_exporter": "python",
   "pygments_lexer": "ipython3",
   "version": "3.9.12"
  }
 },
 "nbformat": 4,
 "nbformat_minor": 5
}
